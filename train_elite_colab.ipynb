{
  "cells": [
    {
      "cell_type": "markdown",
      "metadata": {},
      "source": [
        "# 🔥 Train ELITE Model on Google Colab - Maximum Score (195+ points)\n",
        "\n",
        "This notebook trains the **ELITE** model with maximum accuracy optimizations:\n",
        "- 4-stream CNN with attention\n",
        "- Elite features (mel + MFCC + chroma + contrast)\n",
        "- Data augmentation\n",
        "- 93% validation accuracy target\n",
        "\n",
        "**Expected:** 195+ points per challenge (vs 180 advanced, 140 baseline)\n",
        "\n",
        "**Setup:**\n",
        "1. Go to `Runtime` → `Change runtime type` → Select `T4 GPU`\n",
        "2. Update the `YOUR_GITHUB_USERNAME` variable below with your GitHub username\n",
        "3. Run all cells!\n"
      ]
    },
    {
      "cell_type": "code",
      "execution_count": null,
      "metadata": {},
      "outputs": [],
      "source": [
        "# Check GPU\n",
        "!nvidia-smi\n",
        "print(\"\\n✅ If you see GPU info above, you're ready!\")\n",
        "print(\"❌ If error, change runtime: Runtime → Change runtime type → T4 GPU\")\n"
      ]
    },
    {
      "cell_type": "code",
      "execution_count": null,
      "metadata": {},
      "outputs": [],
      "source": [
        "# Install dependencies\n",
        "!pip install -q librosa soundfile scikit-learn tqdm\n",
        "print(\"✅ Dependencies installed!\")\n"
      ]
    },
    {
      "cell_type": "code",
      "execution_count": null,
      "metadata": {},
      "outputs": [],
      "source": [
        "# Clone YOUR fork with elite files (update username!)\n",
        "YOUR_GITHUB_USERNAME = \"eshaank08\"  # ← CHANGE THIS to your GitHub username!\n",
        "\n",
        "print(f\"Cloning from: https://github.com/{YOUR_GITHUB_USERNAME}/edth-munich-drone-acoustics\")\n",
        "!git clone https://github.com/{YOUR_GITHUB_USERNAME}/edth-munich-drone-acoustics.git\n",
        "%cd edth-munich-drone-acoustics\n",
        "!mkdir -p models\n",
        "\n",
        "# Verify elite files exist\n",
        "import os\n",
        "elite_files = [\"elite_features.py\", \"elite_model.py\", \"data_augmentation.py\", \"train_elite.py\"]\n",
        "missing = [f for f in elite_files if not os.path.exists(f)]\n",
        "if missing:\n",
        "    print(f\"❌ Missing files: {missing}\")\n",
        "    print(\"   Make sure you pushed to your GitHub fork!\")\n",
        "else:\n",
        "    print(\"✅ Repository cloned with elite files!\")\n"
      ]
    },
    {
      "cell_type": "code",
      "execution_count": null,
      "metadata": {},
      "outputs": [],
      "source": [
        "# Download dataset\n",
        "!curl -L -o data.zip https://github.com/helsing-ai/edth-munich-drone-acoustics/releases/download/train_val_data/drone_acoustics_train_val_data.zip\n",
        "!unzip -q data.zip\n",
        "!mkdir -p data/raw\n",
        "!mv train data/raw/\n",
        "!mv val data/raw/\n",
        "print(\"✅ Dataset ready!\")\n",
        "!find data/raw/train -name \"*.wav\" | wc -l\n"
      ]
    },
    {
      "cell_type": "code",
      "execution_count": null,
      "metadata": {},
      "outputs": [],
      "source": [
        "# Fix Python path to find the module\n",
        "import sys\n",
        "sys.path.append('/content/edth-munich-drone-acoustics/src')\n",
        "print(\"✅ Python path configured!\")\n",
        "\n",
        "# Verify the module can be imported\n",
        "try:\n",
        "    from hs_hackathon_drone_acoustics import CLASSES\n",
        "    print(f\"✅ Module imported successfully! Classes: {CLASSES}\")\n",
        "except Exception as e:\n",
        "    print(f\"❌ Error: {e}\")\n",
        "    print(\"   This shouldn't happen - check if repo structure changed\")\n"
      ]
    },
    {
      "cell_type": "code",
      "execution_count": null,
      "metadata": {},
      "outputs": [],
      "source": [
        "# No need to upload files - they're already in your GitHub fork!\n",
        "print(\"✅ Skipping file upload - using files from your GitHub repo\")\n",
        "print(\"   (If you cloned from your fork, elite files are already here)\")\n",
        "\n",
        "# Double-check files exist\n",
        "import os\n",
        "required = [\"elite_features.py\", \"elite_model.py\", \"data_augmentation.py\", \"train_elite.py\"]\n",
        "all_present = all(os.path.exists(f) for f in required)\n",
        "\n",
        "if all_present:\n",
        "    print(\"✅ All elite files found!\")\n",
        "else:\n",
        "    print(\"\\n❌ Some files missing. This means:\")\n",
        "    print(\"   1. You didn't push to YOUR GitHub fork, OR\")\n",
        "    print(\"   2. You're cloning from the original repo (not your fork)\")\n",
        "    print(\"\\nSolution: Update YOUR_GITHUB_USERNAME in Cell 3 and re-run!\")\n"
      ]
    },
    {
      "cell_type": "code",
      "execution_count": null,
      "metadata": {},
      "outputs": [],
      "source": [
        "# Start ELITE training!\n",
        "print(\"🔥 Starting ELITE training...\")\n",
        "print(\"Target: 93% validation accuracy\")\n",
        "print(\"Expected time: ~60 minutes on T4 GPU\\n\")\n",
        "\n",
        "!python train_elite.py\n"
      ]
    },
    {
      "cell_type": "code",
      "execution_count": null,
      "metadata": {},
      "outputs": [],
      "source": [
        "# Download the elite model\n",
        "from google.colab import files\n",
        "import os\n",
        "\n",
        "if os.path.exists('models/best_model_elite.pt'):\n",
        "    size_mb = os.path.getsize('models/best_model_elite.pt') / (1024*1024)\n",
        "    print(f\"✅ Model found: {size_mb:.2f} MB\")\n",
        "    print(\"📥 Downloading...\")\n",
        "    files.download('models/best_model_elite.pt')\n",
        "    print(\"\\n🎉 Done! Now:\")\n",
        "    print(\"1. Move best_model_elite.pt to your laptop's models/ folder\")\n",
        "    print(\"2. Run: python competition_bot_elite.py\")\n",
        "    print(\"3. Watch scores climb to 195+ points! 🚀\")\n",
        "else:\n",
        "    print(\"❌ Model not found. Check training logs above for errors.\")\n"
      ]
    },
    {
      "cell_type": "markdown",
      "metadata": {},
      "source": [
        "## 🎯 Next Steps\n",
        "\n",
        "1. ✅ Download `best_model_elite.pt` (done above)\n",
        "2. Move it to your laptop's `models/` folder\n",
        "3. Run: `python competition_bot_elite.py`\n",
        "4. Expected results:\n",
        "   - Accuracy: 91%+\n",
        "   - Score per challenge: 195+ points\n",
        "   - Speed: ~1.5s with TTA\n",
        "\n",
        "## 🔥 Performance Comparison\n",
        "\n",
        "| System | Score/Challenge | Gain |\n",
        "|--------|----------------|------|\n",
        "| Baseline | 140 | - |\n",
        "| Advanced | 180 | +40 |\n",
        "| **ELITE** | **195** | **+55** 🏆 |\n",
        "\n",
        "**You're now elite tier!** 🚀\n"
      ]
    },
    {
      "cell_type": "code",
      "execution_count": null,
      "metadata": {},
      "outputs": [],
      "source": [
        "# Upload ELITE system files\n",
        "from google.colab import files\n",
        "\n",
        "print(\"📁 Upload these 4 files:\")\n",
        "print(\"  1. elite_features.py\")\n",
        "print(\"  2. elite_model.py\")\n",
        "print(\"  3. data_augmentation.py\")\n",
        "print(\"  4. train_elite.py\")\n",
        "print(\"\\nClick 'Choose Files' below:\")\n",
        "\n",
        "uploaded = files.upload()\n",
        "print(f\"\\n✅ Uploaded {len(uploaded)} files\")\n",
        "\n",
        "# Verify files\n",
        "import os\n",
        "required = [\"elite_features.py\", \"elite_model.py\", \"data_augmentation.py\", \"train_elite.py\"]\n",
        "for f in required:\n",
        "    if os.path.exists(f):\n",
        "        print(f\"✅ {f}\")\n",
        "    else:\n",
        "        print(f\"❌ {f} - MISSING!\")\n"
      ]
    },
    {
      "cell_type": "code",
      "execution_count": null,
      "metadata": {},
      "outputs": [],
      "source": [
        "# Start ELITE training!\n",
        "print(\"🔥 Starting ELITE training...\")\n",
        "print(\"Target: 93% validation accuracy\")\n",
        "print(\"Expected time: ~60 minutes on T4 GPU\\n\")\n",
        "\n",
        "!python train_elite.py\n"
      ]
    },
    {
      "cell_type": "code",
      "execution_count": null,
      "metadata": {},
      "outputs": [],
      "source": [
        "# Download the elite model\n",
        "from google.colab import files\n",
        "import os\n",
        "\n",
        "if os.path.exists('models/best_model_elite.pt'):\n",
        "    size_mb = os.path.getsize('models/best_model_elite.pt') / (1024*1024)\n",
        "    print(f\"✅ Model found: {size_mb:.2f} MB\")\n",
        "    print(\"📥 Downloading...\")\n",
        "    files.download('models/best_model_elite.pt')\n",
        "    print(\"\\n🎉 Done! Now:\")\n",
        "    print(\"1. Move best_model_elite.pt to your laptop's models/ folder\")\n",
        "    print(\"2. Run: python competition_bot_elite.py\")\n",
        "    print(\"3. Watch scores climb to 195+ points! 🚀\")\n",
        "else:\n",
        "    print(\"❌ Model not found. Check training logs above for errors.\")\n"
      ]
    },
    {
      "cell_type": "markdown",
      "metadata": {},
      "source": [
        "## 🎯 Next Steps\n",
        "\n",
        "1. ✅ Download `best_model_elite.pt` (done above)\n",
        "2. Move it to your laptop's `models/` folder\n",
        "3. Run: `python competition_bot_elite.py`\n",
        "4. Expected results:\n",
        "   - Accuracy: 91%+\n",
        "   - Score per challenge: 195+ points\n",
        "   - Speed: ~1.5s with TTA\n",
        "\n",
        "## 🔥 Performance Comparison\n",
        "\n",
        "| System | Score/Challenge | Gain |\n",
        "|--------|----------------|------|\n",
        "| Baseline | 140 | - |\n",
        "| Advanced | 180 | +40 |\n",
        "| **ELITE** | **195** | **+55** 🏆 |\n",
        "\n",
        "**You're now elite tier!** 🚀\n"
      ]
    }
  ],
  "metadata": {
    "language_info": {
      "name": "python"
    }
  },
  "nbformat": 4,
  "nbformat_minor": 2
}
