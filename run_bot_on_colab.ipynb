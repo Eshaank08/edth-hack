{
  "cells": [
    {
      "cell_type": "markdown",
      "metadata": {},
      "source": [
        "\n"
      ]
    },
    {
      "cell_type": "code",
      "execution_count": null,
      "metadata": {},
      "outputs": [],
      "source": [
        "\n"
      ]
    },
    {
      "cell_type": "code",
      "execution_count": null,
      "metadata": {},
      "outputs": [],
      "source": [
        "# Install dependencies\n",
        "!pip install -q librosa soundfile scikit-learn tqdm requests\n",
        "print(\"✅ Dependencies installed!\")\n"
      ]
    },
    {
      "cell_type": "code",
      "execution_count": null,
      "metadata": {},
      "outputs": [],
      "source": [
        "# Clone YOUR repo (with all elite files!)\n",
        "YOUR_GITHUB_USERNAME = \"Eshaank08\"  # ← YOUR exact GitHub username!\n",
        "\n",
        "print(f\"🔥 Cloning from YOUR repo: https://github.com/{YOUR_GITHUB_USERNAME}/edth-hack\")\n",
        "!git clone https://github.com/{YOUR_GITHUB_USERNAME}/edth-hack.git\n",
        "%cd edth-hack\n",
        "\n",
        "# Verify elite files exist\n",
        "import os\n",
        "elite_files = [\"elite_features.py\", \"elite_model.py\", \"competition_bot_elite.py\"]\n",
        "missing = [f for f in elite_files if not os.path.exists(f)]\n",
        "\n",
        "if missing:\n",
        "    print(f\"❌ Missing files: {missing}\")\n",
        "    print(\"   Did you push to YOUR GitHub repo?\")\n",
        "    print(f\"   Run: git push origin main\")\n",
        "else:\n",
        "    print(\"✅ All elite files found in your repo!\")\n"
      ]
    },
    {
      "cell_type": "code",
      "execution_count": null,
      "metadata": {},
      "outputs": [],
      "source": [
        "# Download dataset\n",
        "!curl -L -o data.zip https://github.com/helsing-ai/edth-munich-drone-acoustics/releases/download/train_val_data/drone_acoustics_train_val_data.zip\n",
        "!unzip -q data.zip\n",
        "!mkdir -p data/raw\n",
        "!mv train data/raw/\n",
        "!mv val data/raw/\n",
        "print(\"✅ Dataset ready!\")\n"
      ]
    },
    {
      "cell_type": "code",
      "execution_count": null,
      "metadata": {},
      "outputs": [],
      "source": [
        "# Fix Python path\n",
        "import sys\n",
        "sys.path.append('/content/edth-hack/src')  # ← Updated to match YOUR repo name!\n",
        "\n",
        "# Verify module import\n",
        "try:\n",
        "    from hs_hackathon_drone_acoustics import CLASSES\n",
        "    print(f\"✅ Module imported! Classes: {CLASSES}\")\n",
        "except ImportError as e:\n",
        "    print(f\"❌ Import error: {e}\")\n",
        "    print(\"   The 'src' directory structure should be in your repo\")\n",
        "    print(\"   If you cloned the Helsing repo originally, the src/ folder should be there\")\n"
      ]
    },
    {
      "cell_type": "markdown",
      "metadata": {},
      "source": [
        "## 🎯 Option 1: Train ELITE Model First (Best - 195+ pts)\n",
        "\n",
        "**Run this if you want maximum scores!**\n",
        "\n",
        "Takes ~60 minutes, then bot runs with 195+ points per challenge\n"
      ]
    },
    {
      "cell_type": "code",
      "execution_count": null,
      "metadata": {},
      "outputs": [],
      "source": [
        "# Train ELITE model (takes ~60 min on GPU)\n",
        "print(\"🔥 Training ELITE model...\")\n",
        "print(\"This takes ~60 minutes but gives 195+ points per challenge!\")\n",
        "print(\"You can skip to Option 2 if you want to start immediately with lower scores\\n\")\n",
        "\n",
        "!python train_elite.py\n"
      ]
    },
    {
      "cell_type": "markdown",
      "metadata": {},
      "source": [
        "## 🎯 Option 2: OR Train Advanced Model (Faster - 180 pts)\n",
        "\n",
        "**Skip Option 1 and run this if you want to start NOW!**\n",
        "\n",
        "Takes ~30 minutes, then bot runs with 180 points per challenge\n"
      ]
    },
    {
      "cell_type": "code",
      "execution_count": null,
      "metadata": {},
      "outputs": [],
      "source": [
        "# ALTERNATIVE: Train Advanced model (faster, still good!)\n",
        "# Uncomment this if you skipped Option 1 above\n",
        "# !python train_advanced_efficient.py\n"
      ]
    },
    {
      "cell_type": "markdown",
      "metadata": {},
      "source": [
        "## 🔥 Run Competition Bot Continuously!\n",
        "\n",
        "**This cell runs FOREVER** - keep racking up scores!\n",
        "\n",
        "The bot will:\n",
        "- Poll for new challenges every 2 seconds\n",
        "- Make predictions with your trained model\n",
        "- Submit and get scores\n",
        "- Keep running until you stop it\n",
        "\n",
        "**Keep this Colab tab open to keep competing!**\n"
      ]
    },
    {
      "cell_type": "code",
      "execution_count": null,
      "metadata": {},
      "outputs": [],
      "source": [
        "# Run the competition bot!\n",
        "import os\n",
        "\n",
        "# Determine which bot to run based on which model exists\n",
        "if os.path.exists(\"models/best_model_elite.pt\"):\n",
        "    print(\"🔥 Running ELITE bot (195+ points per challenge)!\")\n",
        "    print(\"=\"*60)\n",
        "    !python competition_bot_elite.py\n",
        "elif os.path.exists(\"models/best_model_advanced.pt\"):\n",
        "    print(\"⚡ Running Advanced bot (180 points per challenge)!\")\n",
        "    print(\"=\"*60)\n",
        "    !python competition_bot_advanced.py\n",
        "else:\n",
        "    print(\"❌ No trained model found!\")\n",
        "    print(\"Run Option 1 or Option 2 above first!\")\n"
      ]
    },
    {
      "cell_type": "markdown",
      "metadata": {},
      "source": [
        "## 📊 Check Your Score!\n",
        "\n",
        "While the bot is running, check the leaderboard:\n",
        "\n",
        "**Live leaderboard:** https://edth.helsing.codes/static/index.html\n",
        "\n",
        "You should see your scores climbing! 🚀\n",
        "\n",
        "**Tips:**\n",
        "- Keep this Colab tab open (bot stops if you close it)\n",
        "- Use a \"Keep Colab Alive\" browser extension for 24/7 running\n",
        "- Colab free tier: ~12 hours max, then restart\n",
        "- Colab Pro: Longer sessions ($9.99/month)\n"
      ]
    },
    {
      "cell_type": "code",
      "execution_count": null,
      "metadata": {},
      "outputs": [],
      "source": [
        "\n"
      ]
    }
  ],
  "metadata": {
    "language_info": {
      "name": "python"
    }
  },
  "nbformat": 4,
  "nbformat_minor": 2
}
