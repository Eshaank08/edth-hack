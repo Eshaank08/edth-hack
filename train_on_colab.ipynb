{
  "cells": [
    {
      "cell_type": "markdown",
      "metadata": {},
      "source": [
        "# 🚀 Train Advanced Model on Google Colab (Free GPU)\n",
        "\n",
        "This notebook trains an advanced CNN model for drone acoustic classification.\n",
        "\n",
        "**Setup:**\n",
        "1. Go to `Runtime` → `Change runtime type` → Select `T4 GPU`\n",
        "2. Update `YOUR_GITHUB_USERNAME` below with your GitHub username\n",
        "3. Run all cells!\n",
        "\n",
        "**Expected:** 180+ points per challenge\n"
      ]
    },
    {
      "cell_type": "code",
      "execution_count": null,
      "metadata": {},
      "outputs": [],
      "source": [
        "# Check GPU availability\n",
        "!nvidia-smi\n"
      ]
    },
    {
      "cell_type": "code",
      "execution_count": null,
      "metadata": {},
      "outputs": [],
      "source": [
        "# Install dependencies\n",
        "!pip install -q librosa soundfile scikit-learn tqdm\n"
      ]
    },
    {
      "cell_type": "code",
      "execution_count": null,
      "metadata": {},
      "outputs": [],
      "source": [
        "# Clone YOUR fork with advanced files (update username!)\n",
        "YOUR_GITHUB_USERNAME = \"eshaank08\"  # ← CHANGE THIS to your GitHub username!\n",
        "\n",
        "print(f\"Cloning from: https://github.com/{YOUR_GITHUB_USERNAME}/edth-munich-drone-acoustics\")\n",
        "!git clone https://github.com/{YOUR_GITHUB_USERNAME}/edth-munich-drone-acoustics.git\n",
        "%cd edth-munich-drone-acoustics\n",
        "\n",
        "# Verify advanced files exist\n",
        "import os\n",
        "advanced_files = [\"advanced_features.py\", \"advanced_model.py\", \"train_advanced_efficient.py\"]\n",
        "missing = [f for f in advanced_files if not os.path.exists(f)]\n",
        "if missing:\n",
        "    print(f\"❌ Missing files: {missing}\")\n",
        "    print(\"   Make sure you pushed to your GitHub fork!\")\n",
        "else:\n",
        "    print(\"✅ Repository cloned with advanced files!\")\n"
      ]
    },
    {
      "cell_type": "code",
      "execution_count": null,
      "metadata": {},
      "outputs": [],
      "source": [
        "# Download and extract dataset\n",
        "!curl -L -o data.zip https://github.com/helsing-ai/edth-munich-drone-acoustics/releases/download/train_val_data/drone_acoustics_train_val_data.zip\n",
        "!unzip -q data.zip\n",
        "!mkdir -p data/raw\n",
        "!mv train data/raw/\n",
        "!mv val data/raw/\n",
        "print(\"✓ Dataset downloaded and extracted!\")\n"
      ]
    },
    {
      "cell_type": "code",
      "execution_count": null,
      "metadata": {},
      "outputs": [],
      "source": [
        "# Fix Python path to find the module\n",
        "import sys\n",
        "sys.path.append('/content/edth-munich-drone-acoustics/src')\n",
        "print(\"✅ Python path configured!\")\n",
        "\n",
        "# Verify the module can be imported\n",
        "try:\n",
        "    from hs_hackathon_drone_acoustics import CLASSES\n",
        "    print(f\"✅ Module imported! Classes: {CLASSES}\")\n",
        "except Exception as e:\n",
        "    print(f\"❌ Error: {e}\")\n"
      ]
    },
    {
      "cell_type": "code",
      "execution_count": null,
      "metadata": {},
      "outputs": [],
      "source": [
        "# No need to upload files - they're already in your GitHub fork!\n",
        "print(\"✅ Skipping file upload - using files from your GitHub repo\")\n",
        "\n",
        "# Verify files exist\n",
        "import os\n",
        "required = [\"advanced_features.py\", \"advanced_model.py\", \"train_advanced_efficient.py\"]\n",
        "all_present = all(os.path.exists(f) for f in required)\n",
        "\n",
        "if all_present:\n",
        "    print(\"✅ All advanced files found!\")\n",
        "else:\n",
        "    print(\"❌ Files missing - update YOUR_GITHUB_USERNAME in Cell 3!\")\n"
      ]
    },
    {
      "cell_type": "code",
      "execution_count": null,
      "metadata": {},
      "outputs": [],
      "source": [
        "# Start training!\n",
        "!python train_advanced_efficient.py\n"
      ]
    },
    {
      "cell_type": "markdown",
      "metadata": {},
      "source": [
        "# Download the trained model\n",
        "from google.colab import files\n",
        "\n",
        "files.download('models/best_model_advanced.pt')\n",
        "print(\"✓ Model downloaded! Upload it to your laptop's models/ folder and run competition_bot_advanced.py\")\n"
      ]
    },
    {
      "cell_type": "markdown",
      "metadata": {},
      "source": [
        "## 🎯 Next Steps\n",
        "\n",
        "1. Download `best_model_advanced.pt` (done above)\n",
        "2. Upload to your laptop in `models/` folder\n",
        "3. Run: `python competition_bot_advanced.py`\n",
        "4. Watch your score improve! 🚀\n"
      ]
    }
  ],
  "metadata": {
    "language_info": {
      "name": "python"
    }
  },
  "nbformat": 4,
  "nbformat_minor": 2
}
